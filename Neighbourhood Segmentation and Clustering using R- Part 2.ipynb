{
 "cells": [
  {
   "cell_type": "code",
   "execution_count": 108,
   "metadata": {},
   "outputs": [],
   "source": [
    "#Load all necessary packages\n",
    "library(gridExtra)\n",
    "library(data.table)\n",
    "library(rvest)\n",
    "library(xml2)\n",
    "library(stringr)\n",
    "library(tidygeocoder)\n",
    "library(plotly)\n",
    "library(rjson)\n",
    "library(ggplot2)\n",
    "library(dplyr)"
   ]
  },
  {
   "cell_type": "code",
   "execution_count": 109,
   "metadata": {},
   "outputs": [],
   "source": [
    "#To scrap info on postal codes, boroughs and neighbourhoods in Toronto, Canada from a url\n",
    "data <- read_html('https://en.wikipedia.org/wiki/List_of_postal_codes_of_Canada:_M')\n",
    "body_nodes <- data %>% html_node('tbody') %>% html_children()\n",
    "\n",
    "#extract information from node <tr> for list of postal codes, boroughs and neighbourhoods\n",
    "list <- data %>% rvest::html_nodes('tbody') %>%\n",
    "  xml2::xml_find_all(\"//tr\") %>% rvest::html_text()"
   ]
  },
  {
   "cell_type": "code",
   "execution_count": 110,
   "metadata": {},
   "outputs": [],
   "source": [
    "#To tidy up vectors\n",
    "list <- list[2:185] #to remove the first row in the vector\n",
    "postal_codes <- substr(list, 1, 3) #To capture only the postal codes\n",
    "boroughs <- sub(\".*\\n\\n *(.*?) *\\n\\n.*\", \"\\\\1\", list) #to capture list of boroughs using regex.\n",
    "neighbourhoods <- sub(\".*\\n\\n *(.*?) *\\n*\", \"\\\\2\", list) #to capture list of neighbourhoods using regex."
   ]
  },
  {
   "cell_type": "code",
   "execution_count": 111,
   "metadata": {},
   "outputs": [
    {
     "name": "stdout",
     "output_type": "stream",
     "text": [
      "Classes 'data.table' and 'data.frame':\t103 obs. of  3 variables:\n",
      " $ Postal.Code  : chr  \"M3A\" \"M4A\" \"M5A\" \"M6A\" ...\n",
      " $ Borough      : chr  \"North York\" \"North York\" \"Downtown Toronto\" \"North York\" ...\n",
      " $ Neighbourhood: chr  \"Parkwoods\\n\" \"Victoria Village\\n\" \"Regent Park, Harbourfront\\n\" \"Lawrence Manor, Lawrence Heights\\n\" ...\n",
      " - attr(*, \".internal.selfref\")=<externalptr> \n"
     ]
    }
   ],
   "source": [
    "#to create one dataframe\n",
    "table_of_postal_codes <- data.table(Postal.Code = postal_codes, Borough=boroughs, Neighbourhood=neighbourhoods, stringsAsFactors = FALSE)\n",
    "\n",
    "#to remove all rows with Not assigned in column Borough\n",
    "table_of_postal_codes <- table_of_postal_codes[1:180]\n",
    "table_of_postal_codes <- table_of_postal_codes[!(table_of_postal_codes$Borough == 'Not assigned')]\n",
    "\n",
    "#to find the shape of the dataframe\n",
    "str(table_of_postal_codes)\n"
   ]
  },
  {
   "cell_type": "code",
   "execution_count": 112,
   "metadata": {},
   "outputs": [
    {
     "data": {
      "text/plain": [
       " Postal.Code          Borough          Neighbourhood     \n",
       " Length:103         Length:103         Length:103        \n",
       " Class :character   Class :character   Class :character  \n",
       " Mode  :character   Mode  :character   Mode  :character  "
      ]
     },
     "metadata": {},
     "output_type": "display_data"
    }
   ],
   "source": [
    "#to see the summary of the dataframe\n",
    "summary(table_of_postal_codes)"
   ]
  },
  {
   "cell_type": "code",
   "execution_count": 113,
   "metadata": {},
   "outputs": [
    {
     "data": {
      "text/html": [
       "<table>\n",
       "<thead><tr><th scope=col>Postal.Code</th><th scope=col>Borough</th><th scope=col>Neighbourhood</th></tr></thead>\n",
       "<tbody>\n",
       "\t<tr><td>M3A                                          </td><td>North York                                   </td><td>Parkwoods\n",
       "                                  </td></tr>\n",
       "\t<tr><td>M4A                                          </td><td>North York                                   </td><td>Victoria Village\n",
       "                           </td></tr>\n",
       "\t<tr><td>M5A                                          </td><td>Downtown Toronto                             </td><td>Regent Park, Harbourfront\n",
       "                  </td></tr>\n",
       "\t<tr><td>M6A                                          </td><td>North York                                   </td><td>Lawrence Manor, Lawrence Heights\n",
       "           </td></tr>\n",
       "\t<tr><td>M7A                                          </td><td>Downtown Toronto                             </td><td>Queen's Park, Ontario Provincial Government\n",
       "</td></tr>\n",
       "\t<tr><td>M9A                                          </td><td>Etobicoke                                    </td><td>Islington Avenue, Humber Valley Village\n",
       "    </td></tr>\n",
       "\t<tr><td>M1B                                          </td><td>Scarborough                                  </td><td>Malvern, Rouge\n",
       "                             </td></tr>\n",
       "\t<tr><td>M3B                                          </td><td>North York                                   </td><td>Don Mills\n",
       "                                  </td></tr>\n",
       "\t<tr><td>M4B                                          </td><td>East York                                    </td><td>Parkview Hill, Woodbine Gardens\n",
       "            </td></tr>\n",
       "\t<tr><td>M5B                                          </td><td>Downtown Toronto                             </td><td>Garden District, Ryerson\n",
       "                   </td></tr>\n",
       "</tbody>\n",
       "</table>\n"
      ],
      "text/latex": [
       "\\begin{tabular}{r|lll}\n",
       " Postal.Code & Borough & Neighbourhood\\\\\n",
       "\\hline\n",
       "\t M3A                                           & North York                                    & Parkwoods\n",
       "                                  \\\\\n",
       "\t M4A                                           & North York                                    & Victoria Village\n",
       "                           \\\\\n",
       "\t M5A                                           & Downtown Toronto                              & Regent Park, Harbourfront\n",
       "                  \\\\\n",
       "\t M6A                                           & North York                                    & Lawrence Manor, Lawrence Heights\n",
       "           \\\\\n",
       "\t M7A                                           & Downtown Toronto                              & Queen's Park, Ontario Provincial Government\n",
       "\\\\\n",
       "\t M9A                                           & Etobicoke                                     & Islington Avenue, Humber Valley Village\n",
       "    \\\\\n",
       "\t M1B                                           & Scarborough                                   & Malvern, Rouge\n",
       "                             \\\\\n",
       "\t M3B                                           & North York                                    & Don Mills\n",
       "                                  \\\\\n",
       "\t M4B                                           & East York                                     & Parkview Hill, Woodbine Gardens\n",
       "            \\\\\n",
       "\t M5B                                           & Downtown Toronto                              & Garden District, Ryerson\n",
       "                   \\\\\n",
       "\\end{tabular}\n"
      ],
      "text/markdown": [
       "\n",
       "| Postal.Code | Borough | Neighbourhood |\n",
       "|---|---|---|\n",
       "| M3A                                           | North York                                    | Parkwoods\n",
       "                                   |\n",
       "| M4A                                           | North York                                    | Victoria Village\n",
       "                            |\n",
       "| M5A                                           | Downtown Toronto                              | Regent Park, Harbourfront\n",
       "                   |\n",
       "| M6A                                           | North York                                    | Lawrence Manor, Lawrence Heights\n",
       "            |\n",
       "| M7A                                           | Downtown Toronto                              | Queen's Park, Ontario Provincial Government\n",
       " |\n",
       "| M9A                                           | Etobicoke                                     | Islington Avenue, Humber Valley Village\n",
       "     |\n",
       "| M1B                                           | Scarborough                                   | Malvern, Rouge\n",
       "                              |\n",
       "| M3B                                           | North York                                    | Don Mills\n",
       "                                   |\n",
       "| M4B                                           | East York                                     | Parkview Hill, Woodbine Gardens\n",
       "             |\n",
       "| M5B                                           | Downtown Toronto                              | Garden District, Ryerson\n",
       "                    |\n",
       "\n"
      ],
      "text/plain": [
       "   Postal.Code Borough          Neighbourhood                                \n",
       "1  M3A         North York       Parkwoods\\n                                  \n",
       "2  M4A         North York       Victoria Village\\n                           \n",
       "3  M5A         Downtown Toronto Regent Park, Harbourfront\\n                  \n",
       "4  M6A         North York       Lawrence Manor, Lawrence Heights\\n           \n",
       "5  M7A         Downtown Toronto Queen's Park, Ontario Provincial Government\\n\n",
       "6  M9A         Etobicoke        Islington Avenue, Humber Valley Village\\n    \n",
       "7  M1B         Scarborough      Malvern, Rouge\\n                             \n",
       "8  M3B         North York       Don Mills\\n                                  \n",
       "9  M4B         East York        Parkview Hill, Woodbine Gardens\\n            \n",
       "10 M5B         Downtown Toronto Garden District, Ryerson\\n                   "
      ]
     },
     "metadata": {},
     "output_type": "display_data"
    }
   ],
   "source": [
    "#to view the first ten rows of the dataframe\n",
    "head(table_of_postal_codes, 10)"
   ]
  },
  {
   "cell_type": "code",
   "execution_count": 114,
   "metadata": {},
   "outputs": [
    {
     "data": {
      "text/html": [
       "<table>\n",
       "<thead><tr><th scope=col>Postal.Code</th><th scope=col>Borough</th><th scope=col>Neighbourhood</th></tr></thead>\n",
       "<tbody>\n",
       "\t<tr><td>M8W                                                                                                                                     </td><td>Etobicoke                                                                                                                               </td><td>Alderwood, Long Branch\n",
       "                                                                                                                </td></tr>\n",
       "\t<tr><td>M9W                                                                                                                                     </td><td>Etobicoke                                                                                                                               </td><td>Northwest, West Humber - Clairville\n",
       "                                                                                                   </td></tr>\n",
       "\t<tr><td>M1X                                                                                                                                     </td><td>Scarborough                                                                                                                             </td><td>Upper Rouge\n",
       "                                                                                                                           </td></tr>\n",
       "\t<tr><td>M4X                                                                                                                                     </td><td>Downtown Toronto                                                                                                                        </td><td>St. James Town, Cabbagetown\n",
       "                                                                                                           </td></tr>\n",
       "\t<tr><td>M5X                                                                                                                                     </td><td>Downtown Toronto                                                                                                                        </td><td>First Canadian Place, Underground city\n",
       "                                                                                                </td></tr>\n",
       "\t<tr><td>M8X                                                                                                                                     </td><td>Etobicoke                                                                                                                               </td><td>The Kingsway, Montgomery Road, Old Mill North\n",
       "                                                                                         </td></tr>\n",
       "\t<tr><td>M4Y                                                                                                                                     </td><td>Downtown Toronto                                                                                                                        </td><td>Church and Wellesley\n",
       "                                                                                                                  </td></tr>\n",
       "\t<tr><td>M7Y                                                                                                                                     </td><td>East Toronto                                                                                                                            </td><td>Business reply mail Processing Centre, South Central Letter Processing Plant Toronto\n",
       "                                                  </td></tr>\n",
       "\t<tr><td>M8Y                                                                                                                                     </td><td>Etobicoke                                                                                                                               </td><td>Old Mill South, King's Mill Park, Sunnylea, Humber Bay, Mimico NE, The Queensway East, Royal York South East, Kingsway Park South East\n",
       "</td></tr>\n",
       "\t<tr><td>M8Z                                                                                                                                     </td><td>Etobicoke                                                                                                                               </td><td>Mimico NW, The Queensway West, South of Bloor, Kingsway Park South West, Royal York South West\n",
       "                                        </td></tr>\n",
       "</tbody>\n",
       "</table>\n"
      ],
      "text/latex": [
       "\\begin{tabular}{r|lll}\n",
       " Postal.Code & Borough & Neighbourhood\\\\\n",
       "\\hline\n",
       "\t M8W                                                                                                                                      & Etobicoke                                                                                                                                & Alderwood, Long Branch\n",
       "                                                                                                                \\\\\n",
       "\t M9W                                                                                                                                      & Etobicoke                                                                                                                                & Northwest, West Humber - Clairville\n",
       "                                                                                                   \\\\\n",
       "\t M1X                                                                                                                                      & Scarborough                                                                                                                              & Upper Rouge\n",
       "                                                                                                                           \\\\\n",
       "\t M4X                                                                                                                                      & Downtown Toronto                                                                                                                         & St. James Town, Cabbagetown\n",
       "                                                                                                           \\\\\n",
       "\t M5X                                                                                                                                      & Downtown Toronto                                                                                                                         & First Canadian Place, Underground city\n",
       "                                                                                                \\\\\n",
       "\t M8X                                                                                                                                      & Etobicoke                                                                                                                                & The Kingsway, Montgomery Road, Old Mill North\n",
       "                                                                                         \\\\\n",
       "\t M4Y                                                                                                                                      & Downtown Toronto                                                                                                                         & Church and Wellesley\n",
       "                                                                                                                  \\\\\n",
       "\t M7Y                                                                                                                                      & East Toronto                                                                                                                             & Business reply mail Processing Centre, South Central Letter Processing Plant Toronto\n",
       "                                                  \\\\\n",
       "\t M8Y                                                                                                                                      & Etobicoke                                                                                                                                & Old Mill South, King's Mill Park, Sunnylea, Humber Bay, Mimico NE, The Queensway East, Royal York South East, Kingsway Park South East\n",
       "\\\\\n",
       "\t M8Z                                                                                                                                      & Etobicoke                                                                                                                                & Mimico NW, The Queensway West, South of Bloor, Kingsway Park South West, Royal York South West\n",
       "                                        \\\\\n",
       "\\end{tabular}\n"
      ],
      "text/markdown": [
       "\n",
       "| Postal.Code | Borough | Neighbourhood |\n",
       "|---|---|---|\n",
       "| M8W                                                                                                                                      | Etobicoke                                                                                                                                | Alderwood, Long Branch\n",
       "                                                                                                                 |\n",
       "| M9W                                                                                                                                      | Etobicoke                                                                                                                                | Northwest, West Humber - Clairville\n",
       "                                                                                                    |\n",
       "| M1X                                                                                                                                      | Scarborough                                                                                                                              | Upper Rouge\n",
       "                                                                                                                            |\n",
       "| M4X                                                                                                                                      | Downtown Toronto                                                                                                                         | St. James Town, Cabbagetown\n",
       "                                                                                                            |\n",
       "| M5X                                                                                                                                      | Downtown Toronto                                                                                                                         | First Canadian Place, Underground city\n",
       "                                                                                                 |\n",
       "| M8X                                                                                                                                      | Etobicoke                                                                                                                                | The Kingsway, Montgomery Road, Old Mill North\n",
       "                                                                                          |\n",
       "| M4Y                                                                                                                                      | Downtown Toronto                                                                                                                         | Church and Wellesley\n",
       "                                                                                                                   |\n",
       "| M7Y                                                                                                                                      | East Toronto                                                                                                                             | Business reply mail Processing Centre, South Central Letter Processing Plant Toronto\n",
       "                                                   |\n",
       "| M8Y                                                                                                                                      | Etobicoke                                                                                                                                | Old Mill South, King's Mill Park, Sunnylea, Humber Bay, Mimico NE, The Queensway East, Royal York South East, Kingsway Park South East\n",
       " |\n",
       "| M8Z                                                                                                                                      | Etobicoke                                                                                                                                | Mimico NW, The Queensway West, South of Bloor, Kingsway Park South West, Royal York South West\n",
       "                                         |\n",
       "\n"
      ],
      "text/plain": [
       "   Postal.Code Borough         \n",
       "1  M8W         Etobicoke       \n",
       "2  M9W         Etobicoke       \n",
       "3  M1X         Scarborough     \n",
       "4  M4X         Downtown Toronto\n",
       "5  M5X         Downtown Toronto\n",
       "6  M8X         Etobicoke       \n",
       "7  M4Y         Downtown Toronto\n",
       "8  M7Y         East Toronto    \n",
       "9  M8Y         Etobicoke       \n",
       "10 M8Z         Etobicoke       \n",
       "   Neighbourhood                                                                                                                           \n",
       "1  Alderwood, Long Branch\\n                                                                                                                \n",
       "2  Northwest, West Humber - Clairville\\n                                                                                                   \n",
       "3  Upper Rouge\\n                                                                                                                           \n",
       "4  St. James Town, Cabbagetown\\n                                                                                                           \n",
       "5  First Canadian Place, Underground city\\n                                                                                                \n",
       "6  The Kingsway, Montgomery Road, Old Mill North\\n                                                                                         \n",
       "7  Church and Wellesley\\n                                                                                                                  \n",
       "8  Business reply mail Processing Centre, South Central Letter Processing Plant Toronto\\n                                                  \n",
       "9  Old Mill South, King's Mill Park, Sunnylea, Humber Bay, Mimico NE, The Queensway East, Royal York South East, Kingsway Park South East\\n\n",
       "10 Mimico NW, The Queensway West, South of Bloor, Kingsway Park South West, Royal York South West\\n                                        "
      ]
     },
     "metadata": {},
     "output_type": "display_data"
    }
   ],
   "source": [
    "#to view the last ten rows of the dataframe\n",
    "tail(table_of_postal_codes, 10)"
   ]
  },
  {
   "cell_type": "code",
   "execution_count": 115,
   "metadata": {},
   "outputs": [],
   "source": [
    "# to read the geospatial coordinates\n",
    "geospatial <- read.csv('Geospatial_Coordinates.csv')\n",
    "#to merge both dataframes\n",
    "full_data <- merge(x=table_of_postal_codes,y=geospatial,by=\"Postal.Code\")"
   ]
  },
  {
   "cell_type": "code",
   "execution_count": 116,
   "metadata": {},
   "outputs": [
    {
     "data": {
      "text/html": [
       "<table>\n",
       "<thead><tr><th scope=col>Postal.Code</th><th scope=col>Borough</th><th scope=col>Neighbourhood</th><th scope=col>Latitude</th><th scope=col>Longitude</th></tr></thead>\n",
       "<tbody>\n",
       "\t<tr><td>M1B                                              </td><td>Scarborough                                      </td><td>Malvern, Rouge\n",
       "                                 </td><td>43.80669                                         </td><td>-79.19435                                        </td></tr>\n",
       "\t<tr><td>M1C                                              </td><td>Scarborough                                      </td><td>Rouge Hill, Port Union, Highland Creek\n",
       "         </td><td>43.78454                                         </td><td>-79.16050                                        </td></tr>\n",
       "\t<tr><td>M1E                                              </td><td>Scarborough                                      </td><td>Guildwood, Morningside, West Hill\n",
       "              </td><td>43.76357                                         </td><td>-79.18871                                        </td></tr>\n",
       "\t<tr><td>M1G                                              </td><td>Scarborough                                      </td><td>Woburn\n",
       "                                         </td><td>43.77099                                         </td><td>-79.21692                                        </td></tr>\n",
       "\t<tr><td>M1H                                              </td><td>Scarborough                                      </td><td>Cedarbrae\n",
       "                                      </td><td>43.77314                                         </td><td>-79.23948                                        </td></tr>\n",
       "\t<tr><td>M1J                                              </td><td>Scarborough                                      </td><td>Scarborough Village\n",
       "                            </td><td>43.74473                                         </td><td>-79.23948                                        </td></tr>\n",
       "\t<tr><td>M1K                                              </td><td>Scarborough                                      </td><td>Kennedy Park, Ionview, East Birchmount Park\n",
       "    </td><td>43.72793                                         </td><td>-79.26203                                        </td></tr>\n",
       "\t<tr><td>M1L                                              </td><td>Scarborough                                      </td><td>Golden Mile, Clairlea, Oakridge\n",
       "                </td><td>43.71111                                         </td><td>-79.28458                                        </td></tr>\n",
       "\t<tr><td>M1M                                              </td><td>Scarborough                                      </td><td>Cliffside, Cliffcrest, Scarborough Village West\n",
       "</td><td>43.71632                                         </td><td>-79.23948                                        </td></tr>\n",
       "\t<tr><td>M1N                                              </td><td>Scarborough                                      </td><td>Birch Cliff, Cliffside West\n",
       "                    </td><td>43.69266                                         </td><td>-79.26485                                        </td></tr>\n",
       "</tbody>\n",
       "</table>\n"
      ],
      "text/latex": [
       "\\begin{tabular}{r|lllll}\n",
       " Postal.Code & Borough & Neighbourhood & Latitude & Longitude\\\\\n",
       "\\hline\n",
       "\t M1B                                               & Scarborough                                       & Malvern, Rouge\n",
       "                                  & 43.80669                                          & -79.19435                                        \\\\\n",
       "\t M1C                                               & Scarborough                                       & Rouge Hill, Port Union, Highland Creek\n",
       "          & 43.78454                                          & -79.16050                                        \\\\\n",
       "\t M1E                                               & Scarborough                                       & Guildwood, Morningside, West Hill\n",
       "               & 43.76357                                          & -79.18871                                        \\\\\n",
       "\t M1G                                               & Scarborough                                       & Woburn\n",
       "                                          & 43.77099                                          & -79.21692                                        \\\\\n",
       "\t M1H                                               & Scarborough                                       & Cedarbrae\n",
       "                                       & 43.77314                                          & -79.23948                                        \\\\\n",
       "\t M1J                                               & Scarborough                                       & Scarborough Village\n",
       "                             & 43.74473                                          & -79.23948                                        \\\\\n",
       "\t M1K                                               & Scarborough                                       & Kennedy Park, Ionview, East Birchmount Park\n",
       "     & 43.72793                                          & -79.26203                                        \\\\\n",
       "\t M1L                                               & Scarborough                                       & Golden Mile, Clairlea, Oakridge\n",
       "                 & 43.71111                                          & -79.28458                                        \\\\\n",
       "\t M1M                                               & Scarborough                                       & Cliffside, Cliffcrest, Scarborough Village West\n",
       " & 43.71632                                          & -79.23948                                        \\\\\n",
       "\t M1N                                               & Scarborough                                       & Birch Cliff, Cliffside West\n",
       "                     & 43.69266                                          & -79.26485                                        \\\\\n",
       "\\end{tabular}\n"
      ],
      "text/markdown": [
       "\n",
       "| Postal.Code | Borough | Neighbourhood | Latitude | Longitude |\n",
       "|---|---|---|---|---|\n",
       "| M1B                                               | Scarborough                                       | Malvern, Rouge\n",
       "                                  | 43.80669                                          | -79.19435                                         |\n",
       "| M1C                                               | Scarborough                                       | Rouge Hill, Port Union, Highland Creek\n",
       "          | 43.78454                                          | -79.16050                                         |\n",
       "| M1E                                               | Scarborough                                       | Guildwood, Morningside, West Hill\n",
       "               | 43.76357                                          | -79.18871                                         |\n",
       "| M1G                                               | Scarborough                                       | Woburn\n",
       "                                          | 43.77099                                          | -79.21692                                         |\n",
       "| M1H                                               | Scarborough                                       | Cedarbrae\n",
       "                                       | 43.77314                                          | -79.23948                                         |\n",
       "| M1J                                               | Scarborough                                       | Scarborough Village\n",
       "                             | 43.74473                                          | -79.23948                                         |\n",
       "| M1K                                               | Scarborough                                       | Kennedy Park, Ionview, East Birchmount Park\n",
       "     | 43.72793                                          | -79.26203                                         |\n",
       "| M1L                                               | Scarborough                                       | Golden Mile, Clairlea, Oakridge\n",
       "                 | 43.71111                                          | -79.28458                                         |\n",
       "| M1M                                               | Scarborough                                       | Cliffside, Cliffcrest, Scarborough Village West\n",
       " | 43.71632                                          | -79.23948                                         |\n",
       "| M1N                                               | Scarborough                                       | Birch Cliff, Cliffside West\n",
       "                     | 43.69266                                          | -79.26485                                         |\n",
       "\n"
      ],
      "text/plain": [
       "   Postal.Code Borough     Neighbourhood                                    \n",
       "1  M1B         Scarborough Malvern, Rouge\\n                                 \n",
       "2  M1C         Scarborough Rouge Hill, Port Union, Highland Creek\\n         \n",
       "3  M1E         Scarborough Guildwood, Morningside, West Hill\\n              \n",
       "4  M1G         Scarborough Woburn\\n                                         \n",
       "5  M1H         Scarborough Cedarbrae\\n                                      \n",
       "6  M1J         Scarborough Scarborough Village\\n                            \n",
       "7  M1K         Scarborough Kennedy Park, Ionview, East Birchmount Park\\n    \n",
       "8  M1L         Scarborough Golden Mile, Clairlea, Oakridge\\n                \n",
       "9  M1M         Scarborough Cliffside, Cliffcrest, Scarborough Village West\\n\n",
       "10 M1N         Scarborough Birch Cliff, Cliffside West\\n                    \n",
       "   Latitude Longitude\n",
       "1  43.80669 -79.19435\n",
       "2  43.78454 -79.16050\n",
       "3  43.76357 -79.18871\n",
       "4  43.77099 -79.21692\n",
       "5  43.77314 -79.23948\n",
       "6  43.74473 -79.23948\n",
       "7  43.72793 -79.26203\n",
       "8  43.71111 -79.28458\n",
       "9  43.71632 -79.23948\n",
       "10 43.69266 -79.26485"
      ]
     },
     "metadata": {},
     "output_type": "display_data"
    }
   ],
   "source": [
    "head(full_data, 10)"
   ]
  }
 ],
 "metadata": {
  "kernelspec": {
   "display_name": "R",
   "language": "R",
   "name": "ir"
  },
  "language_info": {
   "codemirror_mode": "r",
   "file_extension": ".r",
   "mimetype": "text/x-r-source",
   "name": "R",
   "pygments_lexer": "r",
   "version": "3.6.1"
  }
 },
 "nbformat": 4,
 "nbformat_minor": 4
}
