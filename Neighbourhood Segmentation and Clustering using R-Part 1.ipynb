{
 "cells": [
  {
   "cell_type": "code",
   "execution_count": 108,
   "metadata": {},
   "outputs": [],
   "source": [
    "#Load all necessary packages\n",
    "library(gridExtra)\n",
    "library(data.table)\n",
    "library(rvest)\n",
    "library(xml2)\n",
    "library(stringr)\n",
    "library(tidygeocoder)\n",
    "library(plotly)\n",
    "library(rjson)\n",
    "library(ggplot2)\n",
    "library(dplyr)"
   ]
  },
  {
   "cell_type": "code",
   "execution_count": 109,
   "metadata": {},
   "outputs": [],
   "source": [
    "#To scrap info on postal codes, boroughs and neighbourhoods in Toronto, Canada from a url\n",
    "data <- read_html('https://en.wikipedia.org/wiki/List_of_postal_codes_of_Canada:_M')\n",
    "body_nodes <- data %>% html_node('tbody') %>% html_children()\n",
    "\n",
    "#extract information from node <tr> for list of postal codes, boroughs and neighbourhoods\n",
    "list <- data %>% rvest::html_nodes('tbody') %>%\n",
    "  xml2::xml_find_all(\"//tr\") %>% rvest::html_text()"
   ]
  },
  {
   "cell_type": "code",
   "execution_count": 110,
   "metadata": {},
   "outputs": [],
   "source": [
    "#To tidy up vectors\n",
    "list <- list[2:185] #to remove the first row in the vector\n",
    "postal_codes <- substr(list, 1, 3) #To capture only the postal codes\n",
    "boroughs <- sub(\".*\\n\\n *(.*?) *\\n\\n.*\", \"\\\\1\", list) #to capture list of boroughs using regex.\n",
    "neighbourhoods <- sub(\".*\\n\\n *(.*?) *\\n*\", \"\\\\2\", list) #to capture list of neighbourhoods using regex."
   ]
  },
  {
   "cell_type": "code",
   "execution_count": 111,
   "metadata": {},
   "outputs": [
    {
     "name": "stdout",
     "output_type": "stream",
     "text": [
      "Classes 'data.table' and 'data.frame':\t103 obs. of  3 variables:\n",
      " $ Postal.Code  : chr  \"M3A\" \"M4A\" \"M5A\" \"M6A\" ...\n",
      " $ Borough      : chr  \"North York\" \"North York\" \"Downtown Toronto\" \"North York\" ...\n",
      " $ Neighbourhood: chr  \"Parkwoods\\n\" \"Victoria Village\\n\" \"Regent Park, Harbourfront\\n\" \"Lawrence Manor, Lawrence Heights\\n\" ...\n",
      " - attr(*, \".internal.selfref\")=<externalptr> \n"
     ]
    }
   ],
   "source": [
    "#to create one dataframe\n",
    "table_of_postal_codes <- data.table(Postal.Code = postal_codes, Borough=boroughs, Neighbourhood=neighbourhoods, stringsAsFactors = FALSE)\n",
    "\n",
    "#to remove all rows with Not assigned in column Borough\n",
    "table_of_postal_codes <- table_of_postal_codes[1:180]\n",
    "table_of_postal_codes <- table_of_postal_codes[!(table_of_postal_codes$Borough == 'Not assigned')]\n",
    "\n",
    "#to find the shape of the dataframe\n",
    "str(table_of_postal_codes)\n"
   ]
  },
  {
   "cell_type": "code",
   "execution_count": 112,
   "metadata": {},
   "outputs": [
    {
     "data": {
      "text/plain": [
       " Postal.Code          Borough          Neighbourhood     \n",
       " Length:103         Length:103         Length:103        \n",
       " Class :character   Class :character   Class :character  \n",
       " Mode  :character   Mode  :character   Mode  :character  "
      ]
     },
     "metadata": {},
     "output_type": "display_data"
    }
   ],
   "source": [
    "#to see the summary of the dataframe\n",
    "summary(table_of_postal_codes)"
   ]
  },
  {
   "cell_type": "code",
   "execution_count": 113,
   "metadata": {},
   "outputs": [
    {
     "data": {
      "text/html": [
       "<table>\n",
       "<thead><tr><th scope=col>Postal.Code</th><th scope=col>Borough</th><th scope=col>Neighbourhood</th></tr></thead>\n",
       "<tbody>\n",
       "\t<tr><td>M3A                                          </td><td>North York                                   </td><td>Parkwoods\n",
       "                                  </td></tr>\n",
       "\t<tr><td>M4A                                          </td><td>North York                                   </td><td>Victoria Village\n",
       "                           </td></tr>\n",
       "\t<tr><td>M5A                                          </td><td>Downtown Toronto                             </td><td>Regent Park, Harbourfront\n",
       "                  </td></tr>\n",
       "\t<tr><td>M6A                                          </td><td>North York                                   </td><td>Lawrence Manor, Lawrence Heights\n",
       "           </td></tr>\n",
       "\t<tr><td>M7A                                          </td><td>Downtown Toronto                             </td><td>Queen's Park, Ontario Provincial Government\n",
       "</td></tr>\n",
       "\t<tr><td>M9A                                          </td><td>Etobicoke                                    </td><td>Islington Avenue, Humber Valley Village\n",
       "    </td></tr>\n",
       "\t<tr><td>M1B                                          </td><td>Scarborough                                  </td><td>Malvern, Rouge\n",
       "                             </td></tr>\n",
       "\t<tr><td>M3B                                          </td><td>North York                                   </td><td>Don Mills\n",
       "                                  </td></tr>\n",
       "\t<tr><td>M4B                                          </td><td>East York                                    </td><td>Parkview Hill, Woodbine Gardens\n",
       "            </td></tr>\n",
       "\t<tr><td>M5B                                          </td><td>Downtown Toronto                             </td><td>Garden District, Ryerson\n",
       "                   </td></tr>\n",
       "</tbody>\n",
       "</table>\n"
      ],
      "text/latex": [
       "\\begin{tabular}{r|lll}\n",
       " Postal.Code & Borough & Neighbourhood\\\\\n",
       "\\hline\n",
       "\t M3A                                           & North York                                    & Parkwoods\n",
       "                                  \\\\\n",
       "\t M4A                                           & North York                                    & Victoria Village\n",
       "                           \\\\\n",
       "\t M5A                                           & Downtown Toronto                              & Regent Park, Harbourfront\n",
       "                  \\\\\n",
       "\t M6A                                           & North York                                    & Lawrence Manor, Lawrence Heights\n",
       "           \\\\\n",
       "\t M7A                                           & Downtown Toronto                              & Queen's Park, Ontario Provincial Government\n",
       "\\\\\n",
       "\t M9A                                           & Etobicoke                                     & Islington Avenue, Humber Valley Village\n",
       "    \\\\\n",
       "\t M1B                                           & Scarborough                                   & Malvern, Rouge\n",
       "                             \\\\\n",
       "\t M3B                                           & North York                                    & Don Mills\n",
       "                                  \\\\\n",
       "\t M4B                                           & East York                                     & Parkview Hill, Woodbine Gardens\n",
       "            \\\\\n",
       "\t M5B                                           & Downtown Toronto                              & Garden District, Ryerson\n",
       "                   \\\\\n",
       "\\end{tabular}\n"
      ],
      "text/markdown": [
       "\n",
       "| Postal.Code | Borough | Neighbourhood |\n",
       "|---|---|---|\n",
       "| M3A                                           | North York                                    | Parkwoods\n",
       "                                   |\n",
       "| M4A                                           | North York                                    | Victoria Village\n",
       "                            |\n",
       "| M5A                                           | Downtown Toronto                              | Regent Park, Harbourfront\n",
       "                   |\n",
       "| M6A                                           | North York                                    | Lawrence Manor, Lawrence Heights\n",
       "            |\n",
       "| M7A                                           | Downtown Toronto                              | Queen's Park, Ontario Provincial Government\n",
       " |\n",
       "| M9A                                           | Etobicoke                                     | Islington Avenue, Humber Valley Village\n",
       "     |\n",
       "| M1B                                           | Scarborough                                   | Malvern, Rouge\n",
       "                              |\n",
       "| M3B                                           | North York                                    | Don Mills\n",
       "                                   |\n",
       "| M4B                                           | East York                                     | Parkview Hill, Woodbine Gardens\n",
       "             |\n",
       "| M5B                                           | Downtown Toronto                              | Garden District, Ryerson\n",
       "                    |\n",
       "\n"
      ],
      "text/plain": [
       "   Postal.Code Borough          Neighbourhood                                \n",
       "1  M3A         North York       Parkwoods\\n                                  \n",
       "2  M4A         North York       Victoria Village\\n                           \n",
       "3  M5A         Downtown Toronto Regent Park, Harbourfront\\n                  \n",
       "4  M6A         North York       Lawrence Manor, Lawrence Heights\\n           \n",
       "5  M7A         Downtown Toronto Queen's Park, Ontario Provincial Government\\n\n",
       "6  M9A         Etobicoke        Islington Avenue, Humber Valley Village\\n    \n",
       "7  M1B         Scarborough      Malvern, Rouge\\n                             \n",
       "8  M3B         North York       Don Mills\\n                                  \n",
       "9  M4B         East York        Parkview Hill, Woodbine Gardens\\n            \n",
       "10 M5B         Downtown Toronto Garden District, Ryerson\\n                   "
      ]
     },
     "metadata": {},
     "output_type": "display_data"
    }
   ],
   "source": [
    "#to view the first ten rows of the dataframe\n",
    "head(table_of_postal_codes, 10)"
   ]
  }
 ],
 "metadata": {
  "kernelspec": {
   "display_name": "R",
   "language": "R",
   "name": "ir"
  },
  "language_info": {
   "codemirror_mode": "r",
   "file_extension": ".r",
   "mimetype": "text/x-r-source",
   "name": "R",
   "pygments_lexer": "r",
   "version": "3.6.1"
  }
 },
 "nbformat": 4,
 "nbformat_minor": 4
}
